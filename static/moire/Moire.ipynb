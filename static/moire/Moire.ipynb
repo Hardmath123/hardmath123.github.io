{
 "cells": [
  {
   "cell_type": "code",
   "execution_count": null,
   "metadata": {},
   "outputs": [],
   "source": [
    "import numpy as np\n",
    "from matplotlib import pyplot as plt\n",
    "\n",
    "import torch\n",
    "import torch.nn.functional as F\n",
    "\n",
    "import skimage.transform\n",
    "import skimage.data\n",
    "import skimage.io\n",
    "\n",
    "def show_img(img):\n",
    "    plt.figure()\n",
    "    plt.colorbar(plt.imshow(img))\n",
    "    \n",
    "def imsave(fname, img):\n",
    "    img = 1 - img[0, 0]\n",
    "    rgba = torch.zeros_like(img).unsqueeze(2).repeat(1, 1, 3)\n",
    "    rgba[:, :, 1] = img\n",
    "    skimage.io.imsave(fname, rgba)"
   ]
  },
  {
   "cell_type": "code",
   "execution_count": null,
   "metadata": {},
   "outputs": [],
   "source": [
    "N = 1024 # \"radius\" of the target image\n",
    "\n",
    "# get target image from skimage builtin\n",
    "# presumably any silhouette would work...\n",
    "T = skimage.data.horse() * 1\n",
    "T = T / T.max()\n",
    "T = skimage.transform.resize(T, (N * 2 + 1, N * 2 + 1))"
   ]
  },
  {
   "cell_type": "code",
   "execution_count": null,
   "metadata": {},
   "outputs": [],
   "source": [
    "# generate a \"grid\" by superimpsing vertical and horizontal sinusoids\n",
    "x, y = torch.meshgrid(torch.tensor(range(-N, N+1)), torch.tensor(range(-N, N+1)))\n",
    "base = (torch.stack([y, x]) * 1. / N).permute(1, 2, 0).unsqueeze(0)\n",
    "vert = ((base[:, :, :, 0] * N).sin() + 1) / 2\n",
    "horz = ((base[:, :, :, 1] * N).sin() + 1) / 2\n",
    "# \"sharpen\" the sinusoids to resemble a fine mesh\n",
    "img = 1 - (1 - vert * horz) ** 8\n",
    "img = img.unsqueeze(1)\n",
    "\n",
    "# given a low-resolution grid of offsets, produce the moire pattern\n",
    "def render(offs, verbose=False):\n",
    "    # clamp perturbations to be less than 1% of the image extent\n",
    "    offs = offs.sigmoid() / 100\n",
    "    # bicubically upsample small offsets to full scale\n",
    "    offs = F.interpolate(\n",
    "        offs,\n",
    "        size=base.shape[-3:-1],\n",
    "        mode='bicubic',\n",
    "        align_corners=True\n",
    "    ).permute(0, 2, 3, 1)\n",
    "    \n",
    "    # warp grid based on interpolated offsets\n",
    "    grid = base + offs\n",
    "    warped = F.grid_sample(img, grid, align_corners=True)\n",
    "    if verbose:\n",
    "        imsave('warp.png', warped)\n",
    "        imsave('screen.png', img)\n",
    "    \n",
    "    # overlay on unperturbed grid\n",
    "    spp = warped * img\n",
    "    return spp"
   ]
  },
  {
   "cell_type": "code",
   "execution_count": null,
   "metadata": {},
   "outputs": [],
   "source": [
    "# our low-resolution offsets are 64x64\n",
    "K = 64\n",
    "a = torch.randn((1, 2, K, K))\n",
    "\n",
    "i = 0\n",
    "while True:\n",
    "    i += 1\n",
    "    a.requires_grad_()\n",
    "    out = render(a)\n",
    "    loss = ((out - torch.tensor(T))**2).mean()\n",
    "    if i % 100 == 1:\n",
    "        plt.imsave('out-%05d.png' % i, out.detach()[0, 0])\n",
    "        print(loss)\n",
    "    loss.backward()\n",
    "    a = a.detach() - K * K * a.grad.detach()"
   ]
  },
  {
   "cell_type": "code",
   "execution_count": null,
   "metadata": {},
   "outputs": [],
   "source": [
    "render(a.detach(), True)"
   ]
  }
 ],
 "metadata": {
  "kernelspec": {
   "display_name": "Python 3",
   "language": "python",
   "name": "python3"
  },
  "language_info": {
   "codemirror_mode": {
    "name": "ipython",
    "version": 3
   },
   "file_extension": ".py",
   "mimetype": "text/x-python",
   "name": "python",
   "nbconvert_exporter": "python",
   "pygments_lexer": "ipython3",
   "version": "3.7.7"
  }
 },
 "nbformat": 4,
 "nbformat_minor": 4
}
