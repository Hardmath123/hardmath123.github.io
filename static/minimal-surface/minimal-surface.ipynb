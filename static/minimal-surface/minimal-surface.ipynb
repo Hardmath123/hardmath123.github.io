{
 "cells": [
  {
   "cell_type": "code",
   "execution_count": null,
   "metadata": {},
   "outputs": [],
   "source": [
    "import numpy as np\n",
    "from matplotlib import pyplot as plt\n",
    "import torch"
   ]
  },
  {
   "cell_type": "code",
   "execution_count": null,
   "metadata": {},
   "outputs": [],
   "source": [
    "def heron(V, F):\n",
    "    # V : vertex * axis(x,y,z) -> position\n",
    "    # F : face * vertex(0,1,2) -> index into V\n",
    "    tris = V[F] # face * vertex * position\n",
    "    dels = tris.roll(-1, dims=1) - tris\n",
    "    lens = (dels ** 2).sum(dim=2).sqrt()\n",
    "    semi = lens.sum(dim=1, keepdim=True) / 2\n",
    "    abcs = (semi - lens).prod(dim=1, keepdim=True)\n",
    "    area = (semi * abcs).sqrt()\n",
    "    return area.sum()\n",
    "\n",
    "from mpl_toolkits.mplot3d import Axes3D\n",
    "def draw_it(V, F, name=None, azim=45):\n",
    "    fig = plt.figure()\n",
    "    ax = fig.add_subplot(111, projection='3d')\n",
    "    ax.plot_trisurf(V[:, 0], V[:, 1], V[:, 2], triangles=F)\n",
    "    ax.set_zlim(0, 1)\n",
    "    ax.view_init(azim=azim)\n",
    "    ax.set_xticks([])\n",
    "    ax.set_yticks([])\n",
    "    ax.set_zticks([])\n",
    "    if name is not None:\n",
    "        fig.savefig(name)\n",
    "    plt.close(fig)"
   ]
  },
  {
   "cell_type": "code",
   "execution_count": null,
   "metadata": {},
   "outputs": [],
   "source": [
    "u = np.linspace(0, 1, 15, endpoint=True)\n",
    "v = np.linspace(0, 1, 15, endpoint=True)\n",
    "\n",
    "u, v = np.meshgrid(u, v)\n",
    "u, v = u.flatten(), v.flatten()\n",
    "E = torch.tensor(np.argwhere((u == 0) | (u == 1) | (v == 0) | (v == 1)).flatten())\n",
    "num_E = len(E)\n",
    "\n",
    "def case_1():\n",
    "    x = (torch.tensor(u, dtype=torch.float32) - 0.5) * 2\n",
    "    y = (torch.tensor(v, dtype=torch.float32) - 0.5) * 2\n",
    "    z = 0. * x\n",
    "    return x, y, z\n",
    "\n",
    "def case_2():\n",
    "    x = (torch.tensor(u, dtype=torch.float32) - 0.5) * 2 / (2 ** 0.5)\n",
    "    y = (torch.tensor(v, dtype=torch.float32) - 0.5) * 2\n",
    "    z = (1./1.41 - x.abs())\n",
    "    return x, y, z\n",
    "\n",
    "def case_3a():\n",
    "    x = (torch.tensor(u, dtype=torch.float32) - 0.5) * 2\n",
    "    y = (torch.tensor(v, dtype=torch.float32) - 0.5) * 2\n",
    "    z = 0. * x\n",
    "    z[x.abs() == 1.] = 1.\n",
    "    return x, y, z\n",
    "\n",
    "def case_3b():\n",
    "    x = (torch.tensor(u, dtype=torch.float32) - 0.5) * 2\n",
    "    y = (torch.tensor(v, dtype=torch.float32) - 0.5) * 2\n",
    "    z = 0. * x\n",
    "    z[x.abs() == 1.] = (1. - y.abs())[x.abs() == 1.] / (2 ** 0.5)\n",
    "    z[y       == 1.] = (1. - x.abs())[y       == 1.] / (2 ** 0.5)\n",
    "    x = x * (y + 1.1) / 2\n",
    "    return x, y, z"
   ]
  },
  {
   "cell_type": "code",
   "execution_count": null,
   "metadata": {},
   "outputs": [],
   "source": [
    "x, y, z = case_1()\n",
    "V = torch.stack([x, y, z]).t()\n",
    "\n",
    "import matplotlib.tri as mtri\n",
    "tri = mtri.Triangulation(u, v)\n",
    "F = tri.triangles\n",
    "\n",
    "import os\n",
    "os.system('rm *.jpg')\n",
    "for i in range(30000):\n",
    "    V.requires_grad_()\n",
    "    loss = heron(V, F)\n",
    "    loss.backward()\n",
    "    V.grad[E] = 0.\n",
    "    V = (V - V.grad * 0.01).detach()\n",
    "    if i % 500 == 0:\n",
    "        draw_it(V, F, '%05d.jpg' % i, azim=45 + i * 180 // 30000)\n",
    "        print(loss)\n",
    "\n",
    "os.system('convert -loop 0 *.jpg case_1.gif; rm *.jpg')"
   ]
  },
  {
   "cell_type": "code",
   "execution_count": null,
   "metadata": {},
   "outputs": [],
   "source": []
  }
 ],
 "metadata": {
  "kernelspec": {
   "display_name": "Python 3",
   "language": "python",
   "name": "python3"
  },
  "language_info": {
   "codemirror_mode": {
    "name": "ipython",
    "version": 3
   },
   "file_extension": ".py",
   "mimetype": "text/x-python",
   "name": "python",
   "nbconvert_exporter": "python",
   "pygments_lexer": "ipython3",
   "version": "3.8.5"
  }
 },
 "nbformat": 4,
 "nbformat_minor": 4
}
